{
 "cells": [
  {
   "cell_type": "markdown",
   "metadata": {
    "id": "pdNLj0_3Z074"
   },
   "source": [
    "# Objective\n",
    "\n",
    "\n",
    "- The goal of the project is to create a classifier capable of determining a plant's species from a photo."
   ]
  },
  {
   "cell_type": "markdown",
   "metadata": {
    "id": "ApN7ry4vY_VE"
   },
   "source": [
    "\n",
    "\n",
    "Learning Outcomes:\n",
    "- Pre-processing of image data.\n",
    "- Visualization of images.\n",
    "- Building CNN.\n",
    "- Evaluate the Model.\n"
   ]
  },
  {
   "cell_type": "markdown",
   "metadata": {
    "id": "3NbHmJhLj9Cy"
   },
   "source": [
    "# Import Libraries"
   ]
  },
  {
   "cell_type": "code",
   "execution_count": 1,
   "metadata": {
    "colab": {
     "base_uri": "https://localhost:8080/",
     "height": 35
    },
    "id": "fm4he5D-iZEp",
    "outputId": "68433839-3c25-45a8-a417-1100cdaefbd2"
   },
   "outputs": [
    {
     "data": {
      "application/vnd.google.colaboratory.intrinsic+json": {
       "type": "string"
      },
      "text/plain": [
       "'2.4.1'"
      ]
     },
     "execution_count": 1,
     "metadata": {
      "tags": []
     },
     "output_type": "execute_result"
    }
   ],
   "source": [
    "%tensorflow_version 2.x\n",
    "import tensorflow\n",
    "tensorflow.__version__"
   ]
  },
  {
   "cell_type": "code",
   "execution_count": 2,
   "metadata": {
    "colab": {
     "base_uri": "https://localhost:8080/"
    },
    "id": "yhTKN5VkiZHh",
    "outputId": "79f02f65-798f-495e-c1dd-43349312ba5c"
   },
   "outputs": [
    {
     "name": "stdout",
     "output_type": "stream",
     "text": [
      "Drive already mounted at /content/drive; to attempt to forcibly remount, call drive.mount(\"/content/drive\", force_remount=True).\n"
     ]
    }
   ],
   "source": [
    "from google.colab import drive\n",
    "drive.mount('/content/drive')"
   ]
  },
  {
   "cell_type": "code",
   "execution_count": 3,
   "metadata": {
    "id": "twwJqZtRxqCf"
   },
   "outputs": [],
   "source": [
    "# Initialize the random number generator\n",
    "import random\n",
    "random.seed(0)\n",
    "\n",
    "# Ignore the warnings\n",
    "import warnings\n",
    "warnings.filterwarnings(\"ignore\")"
   ]
  },
  {
   "cell_type": "code",
   "execution_count": 4,
   "metadata": {
    "id": "WD8kghu-hu_f"
   },
   "outputs": [],
   "source": [
    "import numpy as np\n",
    "import pandas as pd\n",
    "\n",
    "import seaborn as sns\n",
    "import matplotlib.pyplot as plt\n",
    "%matplotlib inline\n"
   ]
  },
  {
   "cell_type": "code",
   "execution_count": 5,
   "metadata": {
    "id": "xSnzCcoo4PPQ"
   },
   "outputs": [],
   "source": [
    "from sklearn.model_selection import train_test_split\n",
    "from sklearn import preprocessing \n",
    "from sklearn import svm\n",
    "from sklearn.model_selection import train_test_split\n",
    "from sklearn.metrics import accuracy_score, confusion_matrix, precision_score\n",
    "from sklearn.metrics import recall_score, f1_score, precision_recall_curve, auc"
   ]
  },
  {
   "cell_type": "code",
   "execution_count": 6,
   "metadata": {
    "id": "85IYoSXL4PXM"
   },
   "outputs": [],
   "source": [
    "import tensorflow as tf\n",
    "from tensorflow.keras.models import Sequential \n",
    "from tensorflow.keras.layers import Dense, Dropout, BatchNormalization\n",
    "from tensorflow.keras import optimizers\n"
   ]
  },
  {
   "cell_type": "code",
   "execution_count": 7,
   "metadata": {
    "id": "7goB97TvrxUE"
   },
   "outputs": [],
   "source": [
    "from keras.models import Sequential\n",
    "from keras.layers.convolutional import Conv2D, MaxPooling2D\n",
    "from keras.layers.core import Activation, Flatten, Dense\n",
    "from keras.preprocessing.image import ImageDataGenerator, array_to_img, img_to_array, load_img\n",
    "from keras.optimizers import Adam\n",
    "from keras.utils import to_categorical\n",
    "from keras.callbacks import ReduceLROnPlateau\n",
    "from keras.preprocessing.image import ImageDataGenerator\n",
    "from keras.models import model_from_json\n",
    "import random\n",
    "import os\n",
    "import sys\n",
    "import cv2"
   ]
  },
  {
   "cell_type": "markdown",
   "metadata": {
    "id": "I46sr8aF-Mex"
   },
   "source": [
    "# Load Dataset"
   ]
  },
  {
   "cell_type": "code",
   "execution_count": 8,
   "metadata": {
    "id": "9vHFntyt4Pep"
   },
   "outputs": [],
   "source": [
    "data=pd.read_csv('/content/drive/My Drive/Colab Notebooks/Labels.csv')\n"
   ]
  },
  {
   "cell_type": "code",
   "execution_count": 9,
   "metadata": {
    "colab": {
     "base_uri": "https://localhost:8080/",
     "height": 195
    },
    "id": "Eyhv0zykzst2",
    "outputId": "f906f153-3542-4c6a-e815-8bc20f415a8c"
   },
   "outputs": [
    {
     "data": {
      "text/html": [
       "<div>\n",
       "<style scoped>\n",
       "    .dataframe tbody tr th:only-of-type {\n",
       "        vertical-align: middle;\n",
       "    }\n",
       "\n",
       "    .dataframe tbody tr th {\n",
       "        vertical-align: top;\n",
       "    }\n",
       "\n",
       "    .dataframe thead th {\n",
       "        text-align: right;\n",
       "    }\n",
       "</style>\n",
       "<table border=\"1\" class=\"dataframe\">\n",
       "  <thead>\n",
       "    <tr style=\"text-align: right;\">\n",
       "      <th></th>\n",
       "      <th>Label</th>\n",
       "    </tr>\n",
       "  </thead>\n",
       "  <tbody>\n",
       "    <tr>\n",
       "      <th>0</th>\n",
       "      <td>Small-flowered Cranesbill</td>\n",
       "    </tr>\n",
       "    <tr>\n",
       "      <th>1</th>\n",
       "      <td>Small-flowered Cranesbill</td>\n",
       "    </tr>\n",
       "    <tr>\n",
       "      <th>2</th>\n",
       "      <td>Small-flowered Cranesbill</td>\n",
       "    </tr>\n",
       "    <tr>\n",
       "      <th>3</th>\n",
       "      <td>Small-flowered Cranesbill</td>\n",
       "    </tr>\n",
       "    <tr>\n",
       "      <th>4</th>\n",
       "      <td>Small-flowered Cranesbill</td>\n",
       "    </tr>\n",
       "  </tbody>\n",
       "</table>\n",
       "</div>"
      ],
      "text/plain": [
       "                       Label\n",
       "0  Small-flowered Cranesbill\n",
       "1  Small-flowered Cranesbill\n",
       "2  Small-flowered Cranesbill\n",
       "3  Small-flowered Cranesbill\n",
       "4  Small-flowered Cranesbill"
      ]
     },
     "execution_count": 9,
     "metadata": {
      "tags": []
     },
     "output_type": "execute_result"
    }
   ],
   "source": [
    "data.head()"
   ]
  },
  {
   "cell_type": "code",
   "execution_count": 10,
   "metadata": {
    "id": "_KPW9uCokeUh"
   },
   "outputs": [],
   "source": [
    "image=np.load('/content/drive/My Drive/Colab Notebooks/images.npy')"
   ]
  },
  {
   "cell_type": "code",
   "execution_count": 11,
   "metadata": {
    "colab": {
     "base_uri": "https://localhost:8080/"
    },
    "id": "iL-j5rCL325D",
    "outputId": "c200b604-7d17-4369-f6af-9fdacccc87b0"
   },
   "outputs": [
    {
     "data": {
      "text/plain": [
       "array([[[[ 35,  52,  78],\n",
       "         [ 36,  49,  76],\n",
       "         [ 31,  45,  69],\n",
       "         ...,\n",
       "         [ 78,  95, 114],\n",
       "         [ 76,  93, 110],\n",
       "         [ 80,  95, 109]],\n",
       "\n",
       "        [[ 33,  46,  68],\n",
       "         [ 37,  50,  73],\n",
       "         [ 48,  65,  83],\n",
       "         ...,\n",
       "         [ 81,  96, 113],\n",
       "         [ 74,  89, 105],\n",
       "         [ 83,  95, 109]],\n",
       "\n",
       "        [[ 34,  50,  68],\n",
       "         [ 35,  52,  72],\n",
       "         [ 70,  85, 101],\n",
       "         ...,\n",
       "         [ 83,  97, 112],\n",
       "         [ 79,  94, 108],\n",
       "         [ 79,  94, 107]],\n",
       "\n",
       "        ...,\n",
       "\n",
       "        [[ 35,  50,  69],\n",
       "         [ 42,  57,  73],\n",
       "         [ 42,  57,  72],\n",
       "         ...,\n",
       "         [ 60,  76,  92],\n",
       "         [ 67,  81,  97],\n",
       "         [ 64,  77,  95]],\n",
       "\n",
       "        [[ 36,  52,  67],\n",
       "         [ 48,  63,  78],\n",
       "         [ 41,  57,  73],\n",
       "         ...,\n",
       "         [ 44,  66,  83],\n",
       "         [ 58,  76,  91],\n",
       "         [ 57,  74,  90]],\n",
       "\n",
       "        [[ 44,  58,  70],\n",
       "         [ 43,  57,  73],\n",
       "         [ 40,  55,  72],\n",
       "         ...,\n",
       "         [ 41,  70,  92],\n",
       "         [ 55,  78,  97],\n",
       "         [ 61,  79,  96]]],\n",
       "\n",
       "\n",
       "       [[[ 30,  47,  63],\n",
       "         [ 30,  50,  60],\n",
       "         [ 34,  47,  63],\n",
       "         ...,\n",
       "         [ 48,  59,  74],\n",
       "         [ 42,  54,  69],\n",
       "         [ 44,  56,  70]],\n",
       "\n",
       "        [[ 30,  49,  67],\n",
       "         [ 26,  47,  60],\n",
       "         [ 30,  40,  61],\n",
       "         ...,\n",
       "         [ 50,  64,  76],\n",
       "         [ 52,  67,  78],\n",
       "         [ 45,  56,  72]],\n",
       "\n",
       "        [[ 23,  46,  65],\n",
       "         [ 27,  48,  64],\n",
       "         [ 25,  40,  59],\n",
       "         ...,\n",
       "         [ 39,  59,  81],\n",
       "         [ 47,  62,  79],\n",
       "         [ 42,  54,  69]],\n",
       "\n",
       "        ...,\n",
       "\n",
       "        [[ 32,  54,  72],\n",
       "         [ 58,  82,  95],\n",
       "         [ 72,  96, 109],\n",
       "         ...,\n",
       "         [ 60,  80,  99],\n",
       "         [ 50,  72,  92],\n",
       "         [ 45,  64,  84]],\n",
       "\n",
       "        [[ 31,  51,  67],\n",
       "         [ 25,  50,  64],\n",
       "         [ 38,  64,  80],\n",
       "         ...,\n",
       "         [ 63,  83, 101],\n",
       "         [ 57,  78,  96],\n",
       "         [ 50,  69,  89]],\n",
       "\n",
       "        [[ 18,  32,  56],\n",
       "         [ 16,  27,  50],\n",
       "         [ 34,  49,  71],\n",
       "         ...,\n",
       "         [ 59,  84, 101],\n",
       "         [ 55,  80,  97],\n",
       "         [ 39,  59,  82]]],\n",
       "\n",
       "\n",
       "       [[[154, 149, 144],\n",
       "         [162, 156, 152],\n",
       "         [161, 154, 151],\n",
       "         ...,\n",
       "         [175, 180, 183],\n",
       "         [177, 181, 184],\n",
       "         [175, 179, 179]],\n",
       "\n",
       "        [[154, 150, 147],\n",
       "         [162, 156, 154],\n",
       "         [154, 147, 145],\n",
       "         ...,\n",
       "         [168, 173, 180],\n",
       "         [171, 175, 181],\n",
       "         [173, 176, 180]],\n",
       "\n",
       "        [[151, 149, 149],\n",
       "         [159, 155, 156],\n",
       "         [158, 154, 152],\n",
       "         ...,\n",
       "         [173, 176, 180],\n",
       "         [178, 182, 186],\n",
       "         [179, 182, 185]],\n",
       "\n",
       "        ...,\n",
       "\n",
       "        [[ 58,  72,  96],\n",
       "         [ 69,  83, 105],\n",
       "         [ 69,  84, 104],\n",
       "         ...,\n",
       "         [175, 170, 167],\n",
       "         [176, 169, 167],\n",
       "         [176, 167, 165]],\n",
       "\n",
       "        [[ 64,  76,  98],\n",
       "         [ 77,  87, 108],\n",
       "         [ 79,  91, 109],\n",
       "         ...,\n",
       "         [177, 172, 170],\n",
       "         [179, 173, 171],\n",
       "         [176, 169, 166]],\n",
       "\n",
       "        [[ 68,  80,  99],\n",
       "         [ 78,  89, 108],\n",
       "         [ 79,  92, 108],\n",
       "         ...,\n",
       "         [179, 173, 170],\n",
       "         [177, 171, 166],\n",
       "         [178, 171, 167]]],\n",
       "\n",
       "\n",
       "       ...,\n",
       "\n",
       "\n",
       "       [[[163, 165, 170],\n",
       "         [ 55,  56,  67],\n",
       "         [ 58,  56,  60],\n",
       "         ...,\n",
       "         [ 46,  47,  58],\n",
       "         [ 49,  51,  60],\n",
       "         [ 53,  54,  64]],\n",
       "\n",
       "        [[101,  94, 120],\n",
       "         [ 60,  58,  68],\n",
       "         [ 57,  58,  62],\n",
       "         ...,\n",
       "         [ 47,  48,  58],\n",
       "         [ 55,  57,  65],\n",
       "         [ 50,  54,  64]],\n",
       "\n",
       "        [[ 64,  56,  76],\n",
       "         [ 64,  60,  67],\n",
       "         [ 54,  50,  55],\n",
       "         ...,\n",
       "         [ 47,  50,  60],\n",
       "         [ 48,  51,  62],\n",
       "         [ 45,  49,  60]],\n",
       "\n",
       "        ...,\n",
       "\n",
       "        [[ 30,  43,  64],\n",
       "         [ 43,  60,  86],\n",
       "         [ 82, 102, 125],\n",
       "         ...,\n",
       "         [ 42,  58,  76],\n",
       "         [ 44,  59,  79],\n",
       "         [ 48,  64,  81]],\n",
       "\n",
       "        [[ 36,  47,  62],\n",
       "         [ 27,  41,  64],\n",
       "         [ 42,  59,  89],\n",
       "         ...,\n",
       "         [ 42,  60,  76],\n",
       "         [ 41,  59,  77],\n",
       "         [ 42,  60,  76]],\n",
       "\n",
       "        [[ 30,  41,  57],\n",
       "         [ 26,  40,  59],\n",
       "         [ 30,  45,  68],\n",
       "         ...,\n",
       "         [ 41,  59,  74],\n",
       "         [ 39,  60,  73],\n",
       "         [ 40,  57,  74]]],\n",
       "\n",
       "\n",
       "       [[[116, 142, 153],\n",
       "         [107, 137, 152],\n",
       "         [110, 141, 154],\n",
       "         ...,\n",
       "         [ 50,  74,  92],\n",
       "         [ 55,  78,  96],\n",
       "         [ 49,  70,  91]],\n",
       "\n",
       "        [[101, 128, 138],\n",
       "         [ 95, 128, 145],\n",
       "         [115, 145, 154],\n",
       "         ...,\n",
       "         [ 46,  69,  86],\n",
       "         [ 47,  70,  91],\n",
       "         [ 48,  71,  90]],\n",
       "\n",
       "        [[ 47,  61,  78],\n",
       "         [ 77, 100, 117],\n",
       "         [101, 132, 140],\n",
       "         ...,\n",
       "         [ 25,  36,  67],\n",
       "         [ 40,  61,  87],\n",
       "         [ 44,  71,  89]],\n",
       "\n",
       "        ...,\n",
       "\n",
       "        [[ 42,  58,  79],\n",
       "         [ 44,  57,  77],\n",
       "         [ 39,  54,  72],\n",
       "         ...,\n",
       "         [ 54,  71,  93],\n",
       "         [ 54,  74,  90],\n",
       "         [ 41,  56,  73]],\n",
       "\n",
       "        [[ 38,  63,  92],\n",
       "         [ 34,  60,  87],\n",
       "         [ 40,  62,  81],\n",
       "         ...,\n",
       "         [ 59,  75,  94],\n",
       "         [ 50,  70,  88],\n",
       "         [ 40,  57,  73]],\n",
       "\n",
       "        [[ 33,  61,  93],\n",
       "         [ 33,  62,  95],\n",
       "         [ 42,  70,  94],\n",
       "         ...,\n",
       "         [ 52,  67,  89],\n",
       "         [ 49,  67,  87],\n",
       "         [ 34,  51,  71]]],\n",
       "\n",
       "\n",
       "       [[[ 53,  66,  84],\n",
       "         [ 45,  56,  74],\n",
       "         [ 52,  67,  86],\n",
       "         ...,\n",
       "         [ 50,  71,  95],\n",
       "         [ 83, 106, 124],\n",
       "         [ 65,  86, 113]],\n",
       "\n",
       "        [[ 54,  68,  87],\n",
       "         [ 38,  48,  63],\n",
       "         [ 29,  44,  67],\n",
       "         ...,\n",
       "         [ 63,  85, 105],\n",
       "         [ 64,  89, 112],\n",
       "         [ 71,  95, 115]],\n",
       "\n",
       "        [[ 49,  63,  80],\n",
       "         [ 60,  80, 104],\n",
       "         [ 78, 107, 127],\n",
       "         ...,\n",
       "         [ 41,  70,  73],\n",
       "         [ 42,  77,  80],\n",
       "         [ 57,  83,  95]],\n",
       "\n",
       "        ...,\n",
       "\n",
       "        [[ 50,  65,  79],\n",
       "         [ 50,  65,  84],\n",
       "         [ 55,  74,  94],\n",
       "         ...,\n",
       "         [ 28,  52,  79],\n",
       "         [ 31,  50,  74],\n",
       "         [ 32,  51,  72]],\n",
       "\n",
       "        [[ 59,  75,  89],\n",
       "         [ 57,  74,  91],\n",
       "         [ 57,  79,  96],\n",
       "         ...,\n",
       "         [ 34,  56,  79],\n",
       "         [ 71,  90, 102],\n",
       "         [ 72,  89, 104]],\n",
       "\n",
       "        [[ 68,  85, 103],\n",
       "         [ 66,  80,  96],\n",
       "         [ 67,  86, 100],\n",
       "         ...,\n",
       "         [ 70,  87, 101],\n",
       "         [ 68,  82,  95],\n",
       "         [ 68,  84, 101]]]], dtype=uint8)"
      ]
     },
     "execution_count": 11,
     "metadata": {
      "tags": []
     },
     "output_type": "execute_result"
    }
   ],
   "source": [
    "image"
   ]
  },
  {
   "cell_type": "markdown",
   "metadata": {
    "id": "FSwivyioHUbL"
   },
   "source": [
    "## Shape"
   ]
  },
  {
   "cell_type": "code",
   "execution_count": 12,
   "metadata": {
    "colab": {
     "base_uri": "https://localhost:8080/"
    },
    "id": "nqrPv2KO7VBX",
    "outputId": "54bfdac6-5579-4b5c-a289-a5888c566ac4"
   },
   "outputs": [
    {
     "name": "stdout",
     "output_type": "stream",
     "text": [
      "The shape of image is:  (4750, 128, 128, 3)\n",
      "Height = 4750,  Width = 128\n"
     ]
    }
   ],
   "source": [
    "print('The shape of image is: ', image.shape)\n",
    "# Extracting the height and width of an image \n",
    "h, w = image.shape[:2] \n",
    "# Displaying the height and width \n",
    "print(\"Height = {},  Width = {}\".format(h, w)) "
   ]
  },
  {
   "cell_type": "code",
   "execution_count": 13,
   "metadata": {
    "id": "G2hFIvD-A1oW"
   },
   "outputs": [],
   "source": [
    "# Class y variables.\n",
    "y = data[\"Label\"]\n",
    "# images X variables.\n",
    "X = image"
   ]
  },
  {
   "cell_type": "code",
   "execution_count": 14,
   "metadata": {
    "colab": {
     "base_uri": "https://localhost:8080/"
    },
    "id": "d1kPXPlOA1uP",
    "outputId": "8a6d8332-dfb7-4c41-9e4f-de80541e800a"
   },
   "outputs": [
    {
     "name": "stdout",
     "output_type": "stream",
     "text": [
      "Small-flowered Cranesbill\n",
      "Common Chickweed\n"
     ]
    }
   ],
   "source": [
    "print(y[0])               # Label for 1st image.\n",
    "print(y[2000])            # Label for 2001st image."
   ]
  },
  {
   "cell_type": "code",
   "execution_count": 15,
   "metadata": {
    "colab": {
     "base_uri": "https://localhost:8080/"
    },
    "id": "TUgHM3ESHr6T",
    "outputId": "b536fd8f-97d8-44dc-c7aa-adf283db6da2"
   },
   "outputs": [
    {
     "data": {
      "text/plain": [
       "Loose Silky-bent             654\n",
       "Common Chickweed             611\n",
       "Scentless Mayweed            516\n",
       "Small-flowered Cranesbill    496\n",
       "Fat Hen                      475\n",
       "Charlock                     390\n",
       "Sugar beet                   385\n",
       "Cleavers                     287\n",
       "Black-grass                  263\n",
       "Shepherds Purse              231\n",
       "Common wheat                 221\n",
       "Maize                        221\n",
       "Name: Label, dtype: int64"
      ]
     },
     "execution_count": 15,
     "metadata": {
      "tags": []
     },
     "output_type": "execute_result"
    }
   ],
   "source": [
    "y.value_counts()"
   ]
  },
  {
   "cell_type": "code",
   "execution_count": 16,
   "metadata": {
    "colab": {
     "base_uri": "https://localhost:8080/"
    },
    "id": "SDZg9WLaJE2g",
    "outputId": "f05b619e-69e6-4e49-a44f-b09997b42335"
   },
   "outputs": [
    {
     "data": {
      "text/plain": [
       "12"
      ]
     },
     "execution_count": 16,
     "metadata": {
      "tags": []
     },
     "output_type": "execute_result"
    }
   ],
   "source": [
    "y.value_counts().count()\n"
   ]
  },
  {
   "cell_type": "markdown",
   "metadata": {
    "id": "PsGoZcMbHfOQ"
   },
   "source": [
    "## Visualize"
   ]
  },
  {
   "cell_type": "code",
   "execution_count": 17,
   "metadata": {
    "colab": {
     "base_uri": "https://localhost:8080/",
     "height": 557
    },
    "id": "HsTWY6D8zmK0",
    "outputId": "f124044c-5cdc-411d-cb11-5498fae19f89"
   },
   "outputs": [
    {
     "data": {
      "text/plain": [
       "<matplotlib.axes._subplots.AxesSubplot at 0x7f4850c69910>"
      ]
     },
     "execution_count": 17,
     "metadata": {
      "tags": []
     },
     "output_type": "execute_result"
    },
    {
     "data": {
      "image/png": "[encoded data removed]",
      "text/plain": [
       "<Figure size 1440x720 with 1 Axes>"
      ]
     },
     "metadata": {
      "needs_background": "light",
      "tags": []
     },
     "output_type": "display_data"
    }
   ],
   "source": [
    "plt.figure(figsize=(20,10))\n",
    "sns.countplot(y)"
   ]
  },
  {
   "cell_type": "markdown",
   "metadata": {
    "id": "PnTVXu_XKdbw"
   },
   "source": [
    "# Data Pre Processing"
   ]
  },
  {
   "cell_type": "markdown",
   "metadata": {
    "id": "wLauZz9lgrlX"
   },
   "source": [
    "## Apply gaussian blurring:\n",
    "- The shape is of 2-D array is 128x128 pixels. \n",
    "- Then we apply gaussian blurring filter to each of the image.\n",
    "- After applying filter, we have to convert the 2-D array to 1-D array. So that we can feed that into the traditional supervised learning algorithm as we did in the case above."
   ]
  },
  {
   "cell_type": "code",
   "execution_count": 18,
   "metadata": {
    "colab": {
     "base_uri": "https://localhost:8080/"
    },
    "id": "_Wf_HavoLHNz",
    "outputId": "40261460-5d52-422d-acc5-95c44edcc688"
   },
   "outputs": [
    {
     "name": "stdout",
     "output_type": "stream",
     "text": [
      "4750\n",
      "(4750, 128, 128, 3)\n",
      "(4750,)\n"
     ]
    }
   ],
   "source": [
    "print(len(X)) # Check the number of rows in the dataset.\n",
    "print(X.shape) # The shape of dataset tells us that there are 4750 numbers, each of which has 128*128*3 pixels. \n",
    "print(y.shape)"
   ]
  },
  {
   "cell_type": "markdown",
   "metadata": {
    "id": "tw-njRISDSKs"
   },
   "source": [
    "- Its an array of 128x128 pixels 2-D array. "
   ]
  },
  {
   "cell_type": "code",
   "execution_count": 19,
   "metadata": {
    "id": "rheZGw6-LHTD"
   },
   "outputs": [],
   "source": [
    "# Now we apply the gaussian blur to each 128x128 pixels array (image) to reduce the noise in the image\n",
    "for idx, img in enumerate(X):\n",
    "    X[idx] = cv2.GaussianBlur(src=img, ksize=(5, 5), sigmaX=1)"
   ]
  },
  {
   "cell_type": "markdown",
   "metadata": {
    "id": "82e_epIkE8si"
   },
   "source": [
    "## Visualize data after pre-processing."
   ]
  },
  {
   "cell_type": "code",
   "execution_count": 20,
   "metadata": {
    "colab": {
     "base_uri": "https://localhost:8080/",
     "height": 286
    },
    "id": "inlZkuW4DgYk",
    "outputId": "72718b09-0923-4b4f-c704-558f3d2f8f10"
   },
   "outputs": [
    {
     "data": {
      "text/plain": [
       "<matplotlib.image.AxesImage at 0x7f4850676310>"
      ]
     },
     "execution_count": 20,
     "metadata": {
      "tags": []
     },
     "output_type": "execute_result"
    },
    {
     "data": {
      "image/png": "[encoded data removed]",
      "text/plain": [
       "<Figure size 432x288 with 1 Axes>"
      ]
     },
     "metadata": {
      "needs_background": "light",
      "tags": []
     },
     "output_type": "display_data"
    }
   ],
   "source": [
    "# Plot Gaussian blurred image\n",
    "plt.imshow(X[1])"
   ]
  },
  {
   "cell_type": "code",
   "execution_count": 21,
   "metadata": {
    "colab": {
     "base_uri": "https://localhost:8080/",
     "height": 286
    },
    "id": "T6iXKkYMDgcK",
    "outputId": "c82717ab-15ab-495d-de81-8166eb316208"
   },
   "outputs": [
    {
     "data": {
      "text/plain": [
       "<matplotlib.image.AxesImage at 0x7f484edf5510>"
      ]
     },
     "execution_count": 21,
     "metadata": {
      "tags": []
     },
     "output_type": "execute_result"
    },
    {
     "data": {
      "image/png": "[encoded data removed]",
      "text/plain": [
       "<Figure size 432x288 with 1 Axes>"
      ]
     },
     "metadata": {
      "needs_background": "light",
      "tags": []
     },
     "output_type": "display_data"
    }
   ],
   "source": [
    "# Plot Gaussian blurred image\n",
    "plt.imshow(X[200])"
   ]
  },
  {
   "cell_type": "code",
   "execution_count": 22,
   "metadata": {
    "colab": {
     "base_uri": "https://localhost:8080/",
     "height": 286
    },
    "id": "PcLQenqKEyA3",
    "outputId": "56c2b24e-1b54-4dc3-f9fb-f6078b98dfaa"
   },
   "outputs": [
    {
     "data": {
      "text/plain": [
       "<matplotlib.image.AxesImage at 0x7f484ede0ad0>"
      ]
     },
     "execution_count": 22,
     "metadata": {
      "tags": []
     },
     "output_type": "execute_result"
    },
    {
     "data": {
      "image/png": "[encoded data removed]",
      "text/plain": [
       "<Figure size 432x288 with 1 Axes>"
      ]
     },
     "metadata": {
      "needs_background": "light",
      "tags": []
     },
     "output_type": "display_data"
    }
   ],
   "source": [
    "# Plot Gaussian blurred image\n",
    "plt.imshow(X[100])"
   ]
  },
  {
   "cell_type": "markdown",
   "metadata": {
    "id": "VCuYf_WcFWoZ"
   },
   "source": [
    "# Make data compatible"
   ]
  },
  {
   "cell_type": "markdown",
   "metadata": {
    "id": "rc1ZqJkhFk6L"
   },
   "source": [
    "## Convert labels to one-hot-vectors\n",
    "- convert class vectors (integers) to binary class matrix\n",
    "- convert y labels\n",
    "- number of classes: 12\n",
    "- we are doing this to use categorical_crossentropy as loss"
   ]
  },
  {
   "cell_type": "code",
   "execution_count": 23,
   "metadata": {
    "id": "-cCiaIldFqzq"
   },
   "outputs": [],
   "source": [
    "import pandas as pd\n",
    "from sklearn.preprocessing import OneHotEncoder\n",
    "#keras.utils.to_categorical(y)\n",
    "#ohe = OneHotEncoder()\n",
    "#ohe.fit_transform(y).toarray()\n",
    "y=pd.get_dummies(y)\n"
   ]
  },
  {
   "cell_type": "markdown",
   "metadata": {
    "id": "uQsiMl2Okke4"
   },
   "source": [
    "##Split the dataset into training, testing, and validation set."
   ]
  },
  {
   "cell_type": "code",
   "execution_count": 24,
   "metadata": {
    "id": "0SGukWc4Wr9S"
   },
   "outputs": [],
   "source": [
    "# Split the data into train/val/test\n",
    "X_train, X_test, y_train, y_test = train_test_split(X, y, test_size=0.3, random_state=0, stratify=y)\n",
    "X_test, X_val, y_test, y_val = train_test_split(X_test, y_test, test_size=0.5, random_state=0, stratify=y_test)"
   ]
  },
  {
   "cell_type": "markdown",
   "metadata": {
    "id": "0zdUlJykhAFp"
   },
   "source": [
    "## Normalize the *data*"
   ]
  },
  {
   "cell_type": "code",
   "execution_count": 25,
   "metadata": {
    "id": "ptKX6qw2HnXD"
   },
   "outputs": [],
   "source": [
    "# Normalize the data\n",
    "X_train = X_train.astype('float32')\n",
    "X_test = X_test.astype('float32')\n",
    "X_val = X_val.astype('float32')\n",
    "\n",
    "X_train /= 255\n",
    "X_test /= 255"
   ]
  },
  {
   "cell_type": "code",
   "execution_count": 26,
   "metadata": {
    "colab": {
     "base_uri": "https://localhost:8080/"
    },
    "id": "2zp81tPmimnf",
    "outputId": "cfb6b803-aafa-47c5-8807-a67fcf3e826b"
   },
   "outputs": [
    {
     "data": {
      "text/plain": [
       "numpy.ndarray"
      ]
     },
     "execution_count": 26,
     "metadata": {
      "tags": []
     },
     "output_type": "execute_result"
    }
   ],
   "source": [
    "type(X_train) # the data to be fed into model is of the type numpy array."
   ]
  },
  {
   "cell_type": "code",
   "execution_count": 27,
   "metadata": {
    "colab": {
     "base_uri": "https://localhost:8080/"
    },
    "id": "3R_BXLX7UJeA",
    "outputId": "7996efcf-e606-4d53-b83b-d407041f32b7"
   },
   "outputs": [
    {
     "name": "stdout",
     "output_type": "stream",
     "text": [
      "(3325, 128, 128, 3)\n",
      "(3325, 12)\n",
      "(712, 128, 128, 3)\n",
      "(712, 12)\n",
      "(713, 128, 128, 3)\n",
      "(713, 12)\n"
     ]
    }
   ],
   "source": [
    "# Print shape of the data\n",
    "print(X_train.shape)\n",
    "print(y_train.shape)\n",
    "print(X_test.shape)\n",
    "print(y_test.shape)\n",
    "print(X_val.shape)\n",
    "print(y_val.shape)\n"
   ]
  },
  {
   "cell_type": "markdown",
   "metadata": {
    "id": "xCFbTJHlUreg"
   },
   "source": [
    "## Reshape train and test sets into compatible shapes\n",
    "- Sequential model in tensorflow.keras expects data to be in the format (n_e, n_h, n_w, n_c)\n",
    "- n_e= number of examples, n_h = height, n_w = width, n_c = number of channels\n",
    "- Hence Reshapping is not required , shap compatible with Keras model"
   ]
  },
  {
   "cell_type": "markdown",
   "metadata": {
    "id": "HcMpXSFtk5zV"
   },
   "source": [
    "# Building CNN"
   ]
  },
  {
   "cell_type": "markdown",
   "metadata": {
    "id": "7UHwYz-plrJl"
   },
   "source": [
    "### Initialize a sequential model\n",
    "- define a sequential model\n",
    "- add 2 convolutional layers\n",
    "    - kernel size: 3x3\n",
    "    - activation: \"relu\"\n",
    "    - input shape: (128, 128, 3) for first layer\n",
    "- flatten the data\n",
    "    - add Flatten later\n",
    "    - flatten layers flatten 2D arrays to 1D array before building the fully connected layers\n",
    "- adding dense layers\n",
    "    - number of neurons in first layer: 128\n",
    "    - number of neurons in last layer: number of classes\n",
    "    - activation function in first layer: relu\n",
    "    - activation function in last layer: softmax\n",
    "    - we may experiment with any number of neurons for the first Dense layer; however, the final Dense layer must have neurons equal to the number of output classes =12 (Our case)"
   ]
  },
  {
   "cell_type": "code",
   "execution_count": 28,
   "metadata": {
    "colab": {
     "base_uri": "https://localhost:8080/"
    },
    "id": "umMmFWT7zhwG",
    "outputId": "1c1a1fc0-31eb-42f5-bd40-9b3db2a8595f"
   },
   "outputs": [
    {
     "name": "stdout",
     "output_type": "stream",
     "text": [
      "Model: \"sequential\"\n",
      "_________________________________________________________________\n",
      "Layer (type)                 Output Shape              Param #   \n",
      "=================================================================\n",
      "conv2d (Conv2D)              (None, 126, 126, 128)     3584      \n",
      "_________________________________________________________________\n",
      "activation (Activation)      (None, 126, 126, 128)     0         \n",
      "_________________________________________________________________\n",
      "max_pooling2d (MaxPooling2D) (None, 63, 63, 128)       0         \n",
      "_________________________________________________________________\n",
      "dropout (Dropout)            (None, 63, 63, 128)       0         \n",
      "_________________________________________________________________\n",
      "conv2d_1 (Conv2D)            (None, 61, 61, 64)        73792     \n",
      "_________________________________________________________________\n",
      "activation_1 (Activation)    (None, 61, 61, 64)        0         \n",
      "_________________________________________________________________\n",
      "max_pooling2d_1 (MaxPooling2 (None, 30, 30, 64)        0         \n",
      "_________________________________________________________________\n",
      "dropout_1 (Dropout)          (None, 30, 30, 64)        0         \n",
      "_________________________________________________________________\n",
      "conv2d_2 (Conv2D)            (None, 28, 28, 32)        18464     \n",
      "_________________________________________________________________\n",
      "activation_2 (Activation)    (None, 28, 28, 32)        0         \n",
      "_________________________________________________________________\n",
      "max_pooling2d_2 (MaxPooling2 (None, 14, 14, 32)        0         \n",
      "_________________________________________________________________\n",
      "dropout_2 (Dropout)          (None, 14, 14, 32)        0         \n",
      "_________________________________________________________________\n",
      "conv2d_3 (Conv2D)            (None, 12, 12, 16)        4624      \n",
      "_________________________________________________________________\n",
      "activation_3 (Activation)    (None, 12, 12, 16)        0         \n",
      "_________________________________________________________________\n",
      "max_pooling2d_3 (MaxPooling2 (None, 6, 6, 16)          0         \n",
      "_________________________________________________________________\n",
      "dropout_3 (Dropout)          (None, 6, 6, 16)          0         \n",
      "_________________________________________________________________\n",
      "flatten (Flatten)            (None, 576)               0         \n",
      "_________________________________________________________________\n",
      "dense (Dense)                (None, 128)               73856     \n",
      "_________________________________________________________________\n",
      "dense_1 (Dense)              (None, 12)                1548      \n",
      "=================================================================\n",
      "Total params: 175,868\n",
      "Trainable params: 175,868\n",
      "Non-trainable params: 0\n",
      "_________________________________________________________________\n"
     ]
    }
   ],
   "source": [
    "from tensorflow.keras.layers import Conv2D\n",
    "from keras.models import Model\n",
    "from keras.layers import Input, Concatenate, Dense, Dropout, Flatten, Activation\n",
    "\n",
    "from keras.layers.normalization import BatchNormalization\n",
    "from keras.utils import to_categorical\n",
    "from keras import backend as K\n",
    "\n",
    "model = Sequential()\n",
    "\n",
    "model.add(Conv2D (128,(3,3) ,padding= 'valid', input_shape=(128, 128, 3)))\n",
    "model.add(Activation (\"relu\"))\n",
    "model.add(MaxPooling2D(pool_size=(2, 2)))\n",
    "model.add(Dropout(rate=0.1))\n",
    "\n",
    "model.add(Conv2D (64,(3,3) ,padding= 'valid'))\n",
    "model.add(Activation (\"relu\"))\n",
    "model.add(MaxPooling2D(pool_size=(2, 2)))\n",
    "model.add(Dropout(rate=0.2))\n",
    "\n",
    "model.add(Conv2D (32,(3,3) ,padding= 'valid'))\n",
    "model.add(Activation (\"relu\"))\n",
    "model.add(MaxPooling2D(pool_size=(2, 2)))\n",
    "model.add(Dropout(rate=0.3))\n",
    "\n",
    "\n",
    "model.add(Conv2D (16,(3,3) ,padding= 'valid'))\n",
    "model.add(Activation (\"relu\"))\n",
    "model.add(MaxPooling2D(pool_size=(2, 2)))\n",
    "model.add(Dropout(rate=0.4))\n",
    "\n",
    "\n",
    "model.add(Flatten())\n",
    "model.add(Dense(128, activation=\"relu\"))\n",
    "model.add(Dense(12, activation=\"softmax\"))\n",
    "\n",
    "model.summary()\n"
   ]
  },
  {
   "cell_type": "markdown",
   "metadata": {
    "id": "9hVEnUpZmCue"
   },
   "source": [
    "### Compile and fit the model\n",
    "- let's compile our model\n",
    "    - loss: \"categorical_crossentropy\"\n",
    "    - metrics: \"accuracy\"\n",
    "    - optimizer: \"adam\"\n",
    "- then next step will be to fit model\n",
    "    - give train data - training features and labels\n",
    "    - batch size: 32\n",
    "    - epochs: 10\n",
    "    - give validation data - testing features and labels"
   ]
  },
  {
   "cell_type": "code",
   "execution_count": 29,
   "metadata": {
    "id": "NQqmBNE92qw4"
   },
   "outputs": [],
   "source": [
    "# model.summary()"
   ]
  },
  {
   "cell_type": "code",
   "execution_count": 30,
   "metadata": {
    "colab": {
     "base_uri": "https://localhost:8080/"
    },
    "id": "xTdiPP8d2VcL",
    "outputId": "fc6e658b-8d81-4088-b02c-384f9a6d0917"
   },
   "outputs": [
    {
     "name": "stdout",
     "output_type": "stream",
     "text": [
      "Epoch 1/10\n",
      "26/26 [==============================] - 12s 281ms/step - loss: 2.4530 - accuracy: 0.1210 - val_loss: 2.4426 - val_accuracy: 0.1376\n",
      "Epoch 2/10\n",
      "26/26 [==============================] - 4s 155ms/step - loss: 2.4195 - accuracy: 0.1423 - val_loss: 2.4183 - val_accuracy: 0.1461\n",
      "Epoch 3/10\n",
      "26/26 [==============================] - 4s 154ms/step - loss: 2.3796 - accuracy: 0.1718 - val_loss: 2.1412 - val_accuracy: 0.2683\n",
      "Epoch 4/10\n",
      "26/26 [==============================] - 4s 154ms/step - loss: 1.9933 - accuracy: 0.3282 - val_loss: 1.6131 - val_accuracy: 0.4593\n",
      "Epoch 5/10\n",
      "26/26 [==============================] - 4s 153ms/step - loss: 1.6479 - accuracy: 0.4099 - val_loss: 1.5474 - val_accuracy: 0.4902\n",
      "Epoch 6/10\n",
      "26/26 [==============================] - 4s 153ms/step - loss: 1.5450 - accuracy: 0.4402 - val_loss: 1.3707 - val_accuracy: 0.5267\n",
      "Epoch 7/10\n",
      "26/26 [==============================] - 4s 151ms/step - loss: 1.4497 - accuracy: 0.4847 - val_loss: 1.2894 - val_accuracy: 0.5506\n",
      "Epoch 8/10\n",
      "26/26 [==============================] - 4s 151ms/step - loss: 1.4026 - accuracy: 0.4988 - val_loss: 1.2514 - val_accuracy: 0.5772\n",
      "Epoch 9/10\n",
      "26/26 [==============================] - 4s 151ms/step - loss: 1.2803 - accuracy: 0.5393 - val_loss: 1.2426 - val_accuracy: 0.6011\n",
      "Epoch 10/10\n",
      "26/26 [==============================] - 4s 151ms/step - loss: 1.2294 - accuracy: 0.5663 - val_loss: 1.1114 - val_accuracy: 0.6320\n"
     ]
    },
    {
     "data": {
      "text/plain": [
       "<tensorflow.python.keras.callbacks.History at 0x7f4840301550>"
      ]
     },
     "execution_count": 30,
     "metadata": {
      "tags": []
     },
     "output_type": "execute_result"
    }
   ],
   "source": [
    "# Compile the model\n",
    "model.compile(loss=\"categorical_crossentropy\", metrics=[\"accuracy\"], optimizer=\"adam\")\n",
    "\n",
    "# Use earlystopping\n",
    "callback = tensorflow.keras.callbacks.EarlyStopping(monitor='val_accuracy', patience=2, min_delta=0.01)\n",
    "\n",
    "# Fit the model\n",
    "model.fit(X_train, y_train, batch_size=128, epochs=10, validation_data=(X_test, y_test), callbacks=[callback])"
   ]
  },
  {
   "cell_type": "markdown",
   "metadata": {
    "id": "lvzJ7WGpmUJZ"
   },
   "source": [
    "### Final loss and accuracy"
   ]
  },
  {
   "cell_type": "code",
   "execution_count": 31,
   "metadata": {
    "colab": {
     "base_uri": "https://localhost:8080/"
    },
    "id": "d-XcWjLvmHFw",
    "outputId": "c757fd49-7e22-4970-e198-e42d57a4c1af"
   },
   "outputs": [
    {
     "name": "stdout",
     "output_type": "stream",
     "text": [
      "23/23 [==============================] - 1s 16ms/step - loss: 1.1114 - accuracy: 0.6320\n"
     ]
    },
    {
     "data": {
      "text/plain": [
       "[1.1113663911819458, 0.632022500038147]"
      ]
     },
     "execution_count": 31,
     "metadata": {
      "tags": []
     },
     "output_type": "execute_result"
    }
   ],
   "source": [
    "model.evaluate(X_test, y_test)"
   ]
  },
  {
   "cell_type": "markdown",
   "metadata": {
    "id": "AaaBFzvMGjSv"
   },
   "source": [
    "\n",
    "# Confusion Matrix\n",
    "\n",
    "\n"
   ]
  },
  {
   "cell_type": "code",
   "execution_count": 32,
   "metadata": {
    "id": "gBLzVIkCnQUn"
   },
   "outputs": [],
   "source": [
    "from sklearn.metrics import classification_report, confusion_matrix\n",
    "# Get model predictions on the test data\n",
    "y_pred = np.argmax(model.predict(X_test), axis=1)\n",
    "y_true = np.argmax(y_test)"
   ]
  },
  {
   "cell_type": "code",
   "execution_count": 33,
   "metadata": {
    "colab": {
     "base_uri": "https://localhost:8080/",
     "height": 350
    },
    "id": "J9ASH29EemoH",
    "outputId": "9b5105fb-22a3-4ac9-ffd7-3d3d563dab6a"
   },
   "outputs": [
    {
     "ename": "TypeError",
     "evalue": "ignored",
     "output_type": "error",
     "traceback": [
      "\u001b[0;31m---------------------------------------------------------------------------\u001b[0m",
      "\u001b[0;31mTypeError\u001b[0m                                 Traceback (most recent call last)",
      "\u001b[0;32m<ipython-input-33-4477e3ac08ea>\u001b[0m in \u001b[0;36m<module>\u001b[0;34m()\u001b[0m\n\u001b[1;32m      1\u001b[0m \u001b[0;31m#print(\"=== Confusion Matrix ===\")\u001b[0m\u001b[0;34m\u001b[0m\u001b[0;34m\u001b[0m\u001b[0;34m\u001b[0m\u001b[0m\n\u001b[0;32m----> 2\u001b[0;31m \u001b[0mcm\u001b[0m \u001b[0;34m=\u001b[0m \u001b[0mconfusion_matrix\u001b[0m\u001b[0;34m(\u001b[0m\u001b[0my_true\u001b[0m\u001b[0;34m,\u001b[0m \u001b[0my_pred\u001b[0m\u001b[0;34m)\u001b[0m\u001b[0;34m\u001b[0m\u001b[0;34m\u001b[0m\u001b[0m\n\u001b[0m\u001b[1;32m      3\u001b[0m \u001b[0mprint\u001b[0m\u001b[0;34m(\u001b[0m\u001b[0mcm\u001b[0m\u001b[0;34m)\u001b[0m\u001b[0;34m\u001b[0m\u001b[0;34m\u001b[0m\u001b[0m\n",
      "\u001b[0;32m/usr/local/lib/python3.7/dist-packages/sklearn/metrics/_classification.py\u001b[0m in \u001b[0;36mconfusion_matrix\u001b[0;34m(y_true, y_pred, labels, sample_weight, normalize)\u001b[0m\n\u001b[1;32m    266\u001b[0m \u001b[0;34m\u001b[0m\u001b[0m\n\u001b[1;32m    267\u001b[0m     \"\"\"\n\u001b[0;32m--> 268\u001b[0;31m     \u001b[0my_type\u001b[0m\u001b[0;34m,\u001b[0m \u001b[0my_true\u001b[0m\u001b[0;34m,\u001b[0m \u001b[0my_pred\u001b[0m \u001b[0;34m=\u001b[0m \u001b[0m_check_targets\u001b[0m\u001b[0;34m(\u001b[0m\u001b[0my_true\u001b[0m\u001b[0;34m,\u001b[0m \u001b[0my_pred\u001b[0m\u001b[0;34m)\u001b[0m\u001b[0;34m\u001b[0m\u001b[0;34m\u001b[0m\u001b[0m\n\u001b[0m\u001b[1;32m    269\u001b[0m     \u001b[0;32mif\u001b[0m \u001b[0my_type\u001b[0m \u001b[0;32mnot\u001b[0m \u001b[0;32min\u001b[0m \u001b[0;34m(\u001b[0m\u001b[0;34m\"binary\"\u001b[0m\u001b[0;34m,\u001b[0m \u001b[0;34m\"multiclass\"\u001b[0m\u001b[0;34m)\u001b[0m\u001b[0;34m:\u001b[0m\u001b[0;34m\u001b[0m\u001b[0;34m\u001b[0m\u001b[0m\n\u001b[1;32m    270\u001b[0m         \u001b[0;32mraise\u001b[0m \u001b[0mValueError\u001b[0m\u001b[0;34m(\u001b[0m\u001b[0;34m\"%s is not supported\"\u001b[0m \u001b[0;34m%\u001b[0m \u001b[0my_type\u001b[0m\u001b[0;34m)\u001b[0m\u001b[0;34m\u001b[0m\u001b[0;34m\u001b[0m\u001b[0m\n",
      "\u001b[0;32m/usr/local/lib/python3.7/dist-packages/sklearn/metrics/_classification.py\u001b[0m in \u001b[0;36m_check_targets\u001b[0;34m(y_true, y_pred)\u001b[0m\n\u001b[1;32m     78\u001b[0m     \u001b[0my_pred\u001b[0m \u001b[0;34m:\u001b[0m \u001b[0marray\u001b[0m \u001b[0;32mor\u001b[0m \u001b[0mindicator\u001b[0m \u001b[0mmatrix\u001b[0m\u001b[0;34m\u001b[0m\u001b[0;34m\u001b[0m\u001b[0m\n\u001b[1;32m     79\u001b[0m     \"\"\"\n\u001b[0;32m---> 80\u001b[0;31m     \u001b[0mcheck_consistent_length\u001b[0m\u001b[0;34m(\u001b[0m\u001b[0my_true\u001b[0m\u001b[0;34m,\u001b[0m \u001b[0my_pred\u001b[0m\u001b[0;34m)\u001b[0m\u001b[0;34m\u001b[0m\u001b[0;34m\u001b[0m\u001b[0m\n\u001b[0m\u001b[1;32m     81\u001b[0m     \u001b[0mtype_true\u001b[0m \u001b[0;34m=\u001b[0m \u001b[0mtype_of_target\u001b[0m\u001b[0;34m(\u001b[0m\u001b[0my_true\u001b[0m\u001b[0;34m)\u001b[0m\u001b[0;34m\u001b[0m\u001b[0;34m\u001b[0m\u001b[0m\n\u001b[1;32m     82\u001b[0m     \u001b[0mtype_pred\u001b[0m \u001b[0;34m=\u001b[0m \u001b[0mtype_of_target\u001b[0m\u001b[0;34m(\u001b[0m\u001b[0my_pred\u001b[0m\u001b[0;34m)\u001b[0m\u001b[0;34m\u001b[0m\u001b[0;34m\u001b[0m\u001b[0m\n",
      "\u001b[0;32m/usr/local/lib/python3.7/dist-packages/sklearn/utils/validation.py\u001b[0m in \u001b[0;36mcheck_consistent_length\u001b[0;34m(*arrays)\u001b[0m\n\u001b[1;32m    206\u001b[0m     \"\"\"\n\u001b[1;32m    207\u001b[0m \u001b[0;34m\u001b[0m\u001b[0m\n\u001b[0;32m--> 208\u001b[0;31m     \u001b[0mlengths\u001b[0m \u001b[0;34m=\u001b[0m \u001b[0;34m[\u001b[0m\u001b[0m_num_samples\u001b[0m\u001b[0;34m(\u001b[0m\u001b[0mX\u001b[0m\u001b[0;34m)\u001b[0m \u001b[0;32mfor\u001b[0m \u001b[0mX\u001b[0m \u001b[0;32min\u001b[0m \u001b[0marrays\u001b[0m \u001b[0;32mif\u001b[0m \u001b[0mX\u001b[0m \u001b[0;32mis\u001b[0m \u001b[0;32mnot\u001b[0m \u001b[0;32mNone\u001b[0m\u001b[0;34m]\u001b[0m\u001b[0;34m\u001b[0m\u001b[0;34m\u001b[0m\u001b[0m\n\u001b[0m\u001b[1;32m    209\u001b[0m     \u001b[0muniques\u001b[0m \u001b[0;34m=\u001b[0m \u001b[0mnp\u001b[0m\u001b[0;34m.\u001b[0m\u001b[0munique\u001b[0m\u001b[0;34m(\u001b[0m\u001b[0mlengths\u001b[0m\u001b[0;34m)\u001b[0m\u001b[0;34m\u001b[0m\u001b[0;34m\u001b[0m\u001b[0m\n\u001b[1;32m    210\u001b[0m     \u001b[0;32mif\u001b[0m \u001b[0mlen\u001b[0m\u001b[0;34m(\u001b[0m\u001b[0muniques\u001b[0m\u001b[0;34m)\u001b[0m \u001b[0;34m>\u001b[0m \u001b[0;36m1\u001b[0m\u001b[0;34m:\u001b[0m\u001b[0;34m\u001b[0m\u001b[0;34m\u001b[0m\u001b[0m\n",
      "\u001b[0;32m/usr/local/lib/python3.7/dist-packages/sklearn/utils/validation.py\u001b[0m in \u001b[0;36m<listcomp>\u001b[0;34m(.0)\u001b[0m\n\u001b[1;32m    206\u001b[0m     \"\"\"\n\u001b[1;32m    207\u001b[0m \u001b[0;34m\u001b[0m\u001b[0m\n\u001b[0;32m--> 208\u001b[0;31m     \u001b[0mlengths\u001b[0m \u001b[0;34m=\u001b[0m \u001b[0;34m[\u001b[0m\u001b[0m_num_samples\u001b[0m\u001b[0;34m(\u001b[0m\u001b[0mX\u001b[0m\u001b[0;34m)\u001b[0m \u001b[0;32mfor\u001b[0m \u001b[0mX\u001b[0m \u001b[0;32min\u001b[0m \u001b[0marrays\u001b[0m \u001b[0;32mif\u001b[0m \u001b[0mX\u001b[0m \u001b[0;32mis\u001b[0m \u001b[0;32mnot\u001b[0m \u001b[0;32mNone\u001b[0m\u001b[0;34m]\u001b[0m\u001b[0;34m\u001b[0m\u001b[0;34m\u001b[0m\u001b[0m\n\u001b[0m\u001b[1;32m    209\u001b[0m     \u001b[0muniques\u001b[0m \u001b[0;34m=\u001b[0m \u001b[0mnp\u001b[0m\u001b[0;34m.\u001b[0m\u001b[0munique\u001b[0m\u001b[0;34m(\u001b[0m\u001b[0mlengths\u001b[0m\u001b[0;34m)\u001b[0m\u001b[0;34m\u001b[0m\u001b[0;34m\u001b[0m\u001b[0m\n\u001b[1;32m    210\u001b[0m     \u001b[0;32mif\u001b[0m \u001b[0mlen\u001b[0m\u001b[0;34m(\u001b[0m\u001b[0muniques\u001b[0m\u001b[0;34m)\u001b[0m \u001b[0;34m>\u001b[0m \u001b[0;36m1\u001b[0m\u001b[0;34m:\u001b[0m\u001b[0;34m\u001b[0m\u001b[0;34m\u001b[0m\u001b[0m\n",
      "\u001b[0;32m/usr/local/lib/python3.7/dist-packages/sklearn/utils/validation.py\u001b[0m in \u001b[0;36m_num_samples\u001b[0;34m(x)\u001b[0m\n\u001b[1;32m    150\u001b[0m         \u001b[0;32mif\u001b[0m \u001b[0mlen\u001b[0m\u001b[0;34m(\u001b[0m\u001b[0mx\u001b[0m\u001b[0;34m.\u001b[0m\u001b[0mshape\u001b[0m\u001b[0;34m)\u001b[0m \u001b[0;34m==\u001b[0m \u001b[0;36m0\u001b[0m\u001b[0;34m:\u001b[0m\u001b[0;34m\u001b[0m\u001b[0;34m\u001b[0m\u001b[0m\n\u001b[1;32m    151\u001b[0m             raise TypeError(\"Singleton array %r cannot be considered\"\n\u001b[0;32m--> 152\u001b[0;31m                             \" a valid collection.\" % x)\n\u001b[0m\u001b[1;32m    153\u001b[0m         \u001b[0;31m# Check that shape is returning an integer or default to len\u001b[0m\u001b[0;34m\u001b[0m\u001b[0;34m\u001b[0m\u001b[0;34m\u001b[0m\u001b[0m\n\u001b[1;32m    154\u001b[0m         \u001b[0;31m# Dask dataframes may not return numeric shape[0] value\u001b[0m\u001b[0;34m\u001b[0m\u001b[0;34m\u001b[0m\u001b[0;34m\u001b[0m\u001b[0m\n",
      "\u001b[0;31mTypeError\u001b[0m: Singleton array 6 cannot be considered a valid collection."
     ]
    }
   ],
   "source": [
    "#print(\"=== Confusion Matrix ===\")\n",
    "cm = confusion_matrix(y_true, y_pred)\n",
    "print(cm)"
   ]
  },
  {
   "cell_type": "markdown",
   "metadata": {
    "id": "EONz2eXwHSpB"
   },
   "source": [
    "# Visualize Prediction "
   ]
  },
  {
   "cell_type": "code",
   "execution_count": 34,
   "metadata": {
    "colab": {
     "base_uri": "https://localhost:8080/"
    },
    "id": "f8sxmHpbHRnX",
    "outputId": "325f4255-7115-404a-9daa-833c116500fb"
   },
   "outputs": [
    {
     "data": {
      "text/plain": [
       "(array([[[0.2       , 0.22352941, 0.25882354],\n",
       "         [0.22352941, 0.24705882, 0.28235295],\n",
       "         [0.25490198, 0.2901961 , 0.31764707],\n",
       "         ...,\n",
       "         [0.3137255 , 0.3529412 , 0.39215687],\n",
       "         [0.34901962, 0.39215687, 0.41960785],\n",
       "         [0.36862746, 0.4117647 , 0.43529412]],\n",
       " \n",
       "        [[0.19607843, 0.21176471, 0.24705882],\n",
       "         [0.21176471, 0.23137255, 0.2627451 ],\n",
       "         [0.23921569, 0.26666668, 0.29411766],\n",
       "         ...,\n",
       "         [0.2784314 , 0.31764707, 0.36862746],\n",
       "         [0.30980393, 0.34901962, 0.3882353 ],\n",
       "         [0.32941177, 0.36862746, 0.4       ]],\n",
       " \n",
       "        [[0.18431373, 0.19215687, 0.21960784],\n",
       "         [0.19215687, 0.20392157, 0.22745098],\n",
       "         [0.2       , 0.21960784, 0.24313726],\n",
       "         ...,\n",
       "         [0.21568628, 0.25490198, 0.32156864],\n",
       "         [0.23137255, 0.26666668, 0.3254902 ],\n",
       "         [0.24313726, 0.2784314 , 0.32941177]],\n",
       " \n",
       "        ...,\n",
       " \n",
       "        [[0.13725491, 0.1764706 , 0.24705882],\n",
       "         [0.13725491, 0.1764706 , 0.24313726],\n",
       "         [0.13725491, 0.1764706 , 0.24313726],\n",
       "         ...,\n",
       "         [0.27058825, 0.34509805, 0.40784314],\n",
       "         [0.24313726, 0.31764707, 0.38039216],\n",
       "         [0.23137255, 0.3019608 , 0.36862746]],\n",
       " \n",
       "        [[0.13333334, 0.1764706 , 0.24313726],\n",
       "         [0.13333334, 0.18039216, 0.24313726],\n",
       "         [0.13725491, 0.18039216, 0.24313726],\n",
       "         ...,\n",
       "         [0.2627451 , 0.34509805, 0.40784314],\n",
       "         [0.23921569, 0.31764707, 0.3882353 ],\n",
       "         [0.22352941, 0.3019608 , 0.3764706 ]],\n",
       " \n",
       "        [[0.12941177, 0.1764706 , 0.24313726],\n",
       "         [0.13333334, 0.18039216, 0.24313726],\n",
       "         [0.13333334, 0.18039216, 0.23921569],\n",
       "         ...,\n",
       "         [0.25882354, 0.34117648, 0.40784314],\n",
       "         [0.23137255, 0.3137255 , 0.3882353 ],\n",
       "         [0.21960784, 0.3019608 , 0.38039216]]], dtype=float32),\n",
       " array([[[0.14117648, 0.21568628, 0.2901961 ],\n",
       "         [0.13725491, 0.21176471, 0.28627452],\n",
       "         [0.12941177, 0.20392157, 0.2784314 ],\n",
       "         ...,\n",
       "         [0.29803923, 0.3254902 , 0.3647059 ],\n",
       "         [0.29803923, 0.3254902 , 0.3647059 ],\n",
       "         [0.29803923, 0.3254902 , 0.36862746]],\n",
       " \n",
       "        [[0.13725491, 0.21568628, 0.2901961 ],\n",
       "         [0.13725491, 0.21176471, 0.28627452],\n",
       "         [0.12941177, 0.20392157, 0.2784314 ],\n",
       "         ...,\n",
       "         [0.29411766, 0.3254902 , 0.3647059 ],\n",
       "         [0.29411766, 0.3254902 , 0.3647059 ],\n",
       "         [0.29803923, 0.3254902 , 0.3647059 ]],\n",
       " \n",
       "        [[0.13725491, 0.21568628, 0.2901961 ],\n",
       "         [0.13333334, 0.21176471, 0.28627452],\n",
       "         [0.12941177, 0.20392157, 0.2784314 ],\n",
       "         ...,\n",
       "         [0.28627452, 0.31764707, 0.36078432],\n",
       "         [0.2901961 , 0.32156864, 0.3647059 ],\n",
       "         [0.29411766, 0.3254902 , 0.3647059 ]],\n",
       " \n",
       "        ...,\n",
       " \n",
       "        [[0.30588236, 0.34117648, 0.36862746],\n",
       "         [0.30980393, 0.34509805, 0.37254903],\n",
       "         [0.32156864, 0.35686275, 0.38431373],\n",
       "         ...,\n",
       "         [0.16078432, 0.30588236, 0.4627451 ],\n",
       "         [0.16862746, 0.3137255 , 0.47058824],\n",
       "         [0.1764706 , 0.31764707, 0.4745098 ]],\n",
       " \n",
       "        [[0.3137255 , 0.34901962, 0.36862746],\n",
       "         [0.31764707, 0.3529412 , 0.3764706 ],\n",
       "         [0.3254902 , 0.3647059 , 0.3882353 ],\n",
       "         ...,\n",
       "         [0.16862746, 0.31764707, 0.47058824],\n",
       "         [0.18039216, 0.3254902 , 0.47843137],\n",
       "         [0.18431373, 0.32941177, 0.47843137]],\n",
       " \n",
       "        [[0.3137255 , 0.34901962, 0.37254903],\n",
       "         [0.31764707, 0.35686275, 0.3764706 ],\n",
       "         [0.32941177, 0.36862746, 0.3882353 ],\n",
       "         ...,\n",
       "         [0.17254902, 0.32156864, 0.4745098 ],\n",
       "         [0.18431373, 0.32941177, 0.47843137],\n",
       "         [0.1882353 , 0.33333334, 0.48235294]]], dtype=float32),\n",
       " array([[[0.18431373, 0.21176471, 0.2627451 ],\n",
       "         [0.18431373, 0.21176471, 0.2627451 ],\n",
       "         [0.18039216, 0.20784314, 0.2627451 ],\n",
       "         ...,\n",
       "         [0.27450982, 0.3647059 , 0.4392157 ],\n",
       "         [0.2627451 , 0.3529412 , 0.42352942],\n",
       "         [0.25882354, 0.34509805, 0.41568628]],\n",
       " \n",
       "        [[0.18431373, 0.20784314, 0.25882354],\n",
       "         [0.18431373, 0.20784314, 0.25882354],\n",
       "         [0.18039216, 0.20392157, 0.2627451 ],\n",
       "         ...,\n",
       "         [0.2784314 , 0.36862746, 0.4392157 ],\n",
       "         [0.27450982, 0.36078432, 0.43137255],\n",
       "         [0.27058825, 0.35686275, 0.42352942]],\n",
       " \n",
       "        [[0.18039216, 0.2       , 0.25490198],\n",
       "         [0.18039216, 0.2       , 0.25490198],\n",
       "         [0.18039216, 0.2       , 0.25882354],\n",
       "         ...,\n",
       "         [0.2784314 , 0.36862746, 0.4392157 ],\n",
       "         [0.28627452, 0.37254903, 0.4392157 ],\n",
       "         [0.28627452, 0.37254903, 0.43529412]],\n",
       " \n",
       "        ...,\n",
       " \n",
       "        [[0.07058824, 0.09411765, 0.16078432],\n",
       "         [0.07058824, 0.09019608, 0.16078432],\n",
       "         [0.06666667, 0.09019608, 0.16470589],\n",
       "         ...,\n",
       "         [0.11764706, 0.14117648, 0.19215687],\n",
       "         [0.11372549, 0.13725491, 0.18431373],\n",
       "         [0.11372549, 0.13725491, 0.18039216]],\n",
       " \n",
       "        [[0.06666667, 0.07843138, 0.14117648],\n",
       "         [0.06666667, 0.07450981, 0.14509805],\n",
       "         [0.0627451 , 0.07450981, 0.14901961],\n",
       "         ...,\n",
       "         [0.10980392, 0.12941177, 0.18039216],\n",
       "         [0.10588235, 0.1254902 , 0.17254902],\n",
       "         [0.10980392, 0.1254902 , 0.16862746]],\n",
       " \n",
       "        [[0.06666667, 0.07058824, 0.13333334],\n",
       "         [0.0627451 , 0.06666667, 0.13725491],\n",
       "         [0.0627451 , 0.06666667, 0.14509805],\n",
       "         ...,\n",
       "         [0.10588235, 0.1254902 , 0.17254902],\n",
       "         [0.10588235, 0.12156863, 0.16470589],\n",
       "         [0.10588235, 0.12156863, 0.16470589]]], dtype=float32),\n",
       " array([[[0.7411765 , 0.7137255 , 0.72156864],\n",
       "         [0.7254902 , 0.69803923, 0.7058824 ],\n",
       "         [0.6627451 , 0.6431373 , 0.654902  ],\n",
       "         ...,\n",
       "         [0.1764706 , 0.19215687, 0.22352941],\n",
       "         [0.1764706 , 0.1882353 , 0.22352941],\n",
       "         [0.1764706 , 0.19215687, 0.22745098]],\n",
       " \n",
       "        [[0.7411765 , 0.7137255 , 0.72156864],\n",
       "         [0.7254902 , 0.69803923, 0.7058824 ],\n",
       "         [0.67058825, 0.6509804 , 0.65882355],\n",
       "         ...,\n",
       "         [0.16862746, 0.1882353 , 0.21568628],\n",
       "         [0.16470589, 0.18039216, 0.21176471],\n",
       "         [0.16470589, 0.18039216, 0.21176471]],\n",
       " \n",
       "        [[0.7411765 , 0.7137255 , 0.72156864],\n",
       "         [0.7254902 , 0.7019608 , 0.7058824 ],\n",
       "         [0.6784314 , 0.65882355, 0.6666667 ],\n",
       "         ...,\n",
       "         [0.16078432, 0.18039216, 0.2       ],\n",
       "         [0.15294118, 0.17254902, 0.19607843],\n",
       "         [0.15294118, 0.16862746, 0.19607843]],\n",
       " \n",
       "        ...,\n",
       " \n",
       "        [[0.87058824, 0.84705883, 0.84705883],\n",
       "         [0.85882354, 0.8392157 , 0.84313726],\n",
       "         [0.8352941 , 0.8156863 , 0.8235294 ],\n",
       "         ...,\n",
       "         [0.07843138, 0.33333334, 0.24705882],\n",
       "         [0.05882353, 0.3137255 , 0.23137255],\n",
       "         [0.05098039, 0.30588236, 0.22745098]],\n",
       " \n",
       "        [[0.8745098 , 0.84705883, 0.8509804 ],\n",
       "         [0.8666667 , 0.8392157 , 0.84705883],\n",
       "         [0.84705883, 0.8235294 , 0.83137256],\n",
       "         ...,\n",
       "         [0.10196079, 0.34509805, 0.25882354],\n",
       "         [0.07843138, 0.33333334, 0.24705882],\n",
       "         [0.06666667, 0.3254902 , 0.24313726]],\n",
       " \n",
       "        [[0.8784314 , 0.84705883, 0.85490197],\n",
       "         [0.87058824, 0.84313726, 0.84705883],\n",
       "         [0.8509804 , 0.827451  , 0.8352941 ],\n",
       "         ...,\n",
       "         [0.11764706, 0.3529412 , 0.2627451 ],\n",
       "         [0.09803922, 0.34509805, 0.25490198],\n",
       "         [0.08627451, 0.3372549 , 0.2509804 ]]], dtype=float32),\n",
       " array([[[0.10196079, 0.2       , 0.3372549 ],\n",
       "         [0.10196079, 0.2       , 0.33333334],\n",
       "         [0.10588235, 0.2       , 0.33333334],\n",
       "         ...,\n",
       "         [0.20392157, 0.29411766, 0.36862746],\n",
       "         [0.20784314, 0.29411766, 0.37254903],\n",
       "         [0.20784314, 0.29803923, 0.3764706 ]],\n",
       " \n",
       "        [[0.10196079, 0.19607843, 0.32941177],\n",
       "         [0.10588235, 0.19607843, 0.32941177],\n",
       "         [0.10980392, 0.2       , 0.3254902 ],\n",
       "         ...,\n",
       "         [0.21176471, 0.29803923, 0.36862746],\n",
       "         [0.21176471, 0.29803923, 0.37254903],\n",
       "         [0.21568628, 0.3019608 , 0.3764706 ]],\n",
       " \n",
       "        [[0.10196079, 0.1882353 , 0.31764707],\n",
       "         [0.10588235, 0.19215687, 0.31764707],\n",
       "         [0.10980392, 0.19215687, 0.3137255 ],\n",
       "         ...,\n",
       "         [0.21568628, 0.29803923, 0.36862746],\n",
       "         [0.22352941, 0.30588236, 0.37254903],\n",
       "         [0.22352941, 0.30980393, 0.37254903]],\n",
       " \n",
       "        ...,\n",
       " \n",
       "        [[0.14117648, 0.2509804 , 0.36078432],\n",
       "         [0.16078432, 0.25882354, 0.36862746],\n",
       "         [0.21176471, 0.29411766, 0.39215687],\n",
       "         ...,\n",
       "         [0.16862746, 0.27450982, 0.3882353 ],\n",
       "         [0.16078432, 0.27058825, 0.4       ],\n",
       "         [0.16078432, 0.27450982, 0.4117647 ]],\n",
       " \n",
       "        [[0.14117648, 0.24313726, 0.3647059 ],\n",
       "         [0.15686275, 0.25490198, 0.36862746],\n",
       "         [0.2       , 0.28235295, 0.3882353 ],\n",
       "         ...,\n",
       "         [0.14117648, 0.25490198, 0.38039216],\n",
       "         [0.14509805, 0.27058825, 0.40784314],\n",
       "         [0.15294118, 0.2784314 , 0.42352942]],\n",
       " \n",
       "        [[0.13725491, 0.24313726, 0.3647059 ],\n",
       "         [0.15294118, 0.2509804 , 0.36862746],\n",
       "         [0.19215687, 0.2784314 , 0.3882353 ],\n",
       "         ...,\n",
       "         [0.13725491, 0.25490198, 0.38039216],\n",
       "         [0.14509805, 0.27450982, 0.41568628],\n",
       "         [0.15294118, 0.28627452, 0.43529412]]], dtype=float32))"
      ]
     },
     "execution_count": 34,
     "metadata": {
      "tags": []
     },
     "output_type": "execute_result"
    }
   ],
   "source": [
    "X_test[2], X_test[3], X_test[33], X_test[36], X_test[59]"
   ]
  }
 ],
 "metadata": {
  "accelerator": "GPU",
  "colab": {
   "collapsed_sections": [],
   "name": "Plant Seedlings Image Classification using CNNs in Keras.ipynb",
   "provenance": [],
   "toc_visible": true
  },
  "kernelspec": {
   "display_name": "Python 3 (ipykernel)",
   "language": "python",
   "name": "python3"
  },
  "language_info": {
   "codemirror_mode": {
    "name": "ipython",
    "version": 3
   },
   "file_extension": ".py",
   "mimetype": "text/x-python",
   "name": "python",
   "nbconvert_exporter": "python",
   "pygments_lexer": "ipython3",
   "version": "3.9.7"
  }
 },
 "nbformat": 4,
 "nbformat_minor": 1
}
